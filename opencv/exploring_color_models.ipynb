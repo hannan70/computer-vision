{
 "cells": [
  {
   "cell_type": "code",
   "execution_count": 1,
   "id": "013382d1",
   "metadata": {},
   "outputs": [],
   "source": [
    "import cv2"
   ]
  },
  {
   "cell_type": "code",
   "execution_count": 3,
   "id": "ebe8bd24",
   "metadata": {},
   "outputs": [],
   "source": [
    "bgr_image = cv2.imread('global.jpg')"
   ]
  },
  {
   "cell_type": "code",
   "execution_count": 4,
   "id": "f61adb44",
   "metadata": {},
   "outputs": [
    {
     "data": {
      "text/plain": [
       "True"
      ]
     },
     "execution_count": 4,
     "metadata": {},
     "output_type": "execute_result"
    }
   ],
   "source": [
    "# Convert bgr to gray image\n",
    "gray_image = cv2.cvtColor(bgr_image, cv2.COLOR_BGR2GRAY)\n",
    "cv2.imwrite('./gray_global.jpg', gray_image)"
   ]
  },
  {
   "cell_type": "code",
   "execution_count": 6,
   "id": "1f18173c",
   "metadata": {},
   "outputs": [
    {
     "data": {
      "text/plain": [
       "True"
      ]
     },
     "execution_count": 6,
     "metadata": {},
     "output_type": "execute_result"
    }
   ],
   "source": [
    "# Convert bgr to HSB \n",
    "hsb_image = cv2.cvtColor(bgr_image, cv2.COLOR_BGR2HSV)\n",
    "cv2.imwrite(\"./hsb_global.jpg\", hsb_image)"
   ]
  },
  {
   "cell_type": "code",
   "execution_count": 7,
   "id": "0c75347d",
   "metadata": {},
   "outputs": [
    {
     "data": {
      "text/plain": [
       "True"
      ]
     },
     "execution_count": 7,
     "metadata": {},
     "output_type": "execute_result"
    }
   ],
   "source": [
    "# Convert bgr to LAB\n",
    "lab_image = cv2.cvtColor(bgr_image, cv2.COLOR_BGR2LAB)\n",
    "cv2.imwrite('lab_global.jpg', hsb_image)"
   ]
  },
  {
   "cell_type": "code",
   "execution_count": 8,
   "id": "e036f0d4",
   "metadata": {},
   "outputs": [
    {
     "data": {
      "text/plain": [
       "True"
      ]
     },
     "execution_count": 8,
     "metadata": {},
     "output_type": "execute_result"
    }
   ],
   "source": [
    "# Convert bgr to GRB\n",
    "rgb_image = cv2.cvtColor(bgr_image, cv2.COLOR_BGR2RGB)\n",
    "cv2.imwrite('rgb_image.jpg', rgb_image)"
   ]
  },
  {
   "cell_type": "code",
   "execution_count": 9,
   "id": "aa8e0c7b",
   "metadata": {},
   "outputs": [
    {
     "data": {
      "text/plain": [
       "True"
      ]
     },
     "execution_count": 9,
     "metadata": {},
     "output_type": "execute_result"
    }
   ],
   "source": [
    "cv2.imwrite('rgb2_image.jpg', bgr_image)"
   ]
  },
  {
   "cell_type": "code",
   "execution_count": null,
   "id": "3cd6bc9e",
   "metadata": {},
   "outputs": [],
   "source": []
  }
 ],
 "metadata": {
  "kernelspec": {
   "display_name": "Python 3",
   "language": "python",
   "name": "python3"
  },
  "language_info": {
   "codemirror_mode": {
    "name": "ipython",
    "version": 3
   },
   "file_extension": ".py",
   "mimetype": "text/x-python",
   "name": "python",
   "nbconvert_exporter": "python",
   "pygments_lexer": "ipython3",
   "version": "3.11.0"
  }
 },
 "nbformat": 4,
 "nbformat_minor": 5
}

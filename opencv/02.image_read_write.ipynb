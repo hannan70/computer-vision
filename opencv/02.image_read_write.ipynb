{
 "cells": [
  {
   "cell_type": "code",
   "execution_count": 1,
   "id": "e2f91401",
   "metadata": {},
   "outputs": [],
   "source": [
    "import cv2 as cv"
   ]
  },
  {
   "cell_type": "code",
   "execution_count": 2,
   "id": "6cc08c27",
   "metadata": {},
   "outputs": [],
   "source": [
    "image = cv.imread('./global.jpg')"
   ]
  },
  {
   "cell_type": "code",
   "execution_count": 3,
   "id": "ff96c5c9",
   "metadata": {},
   "outputs": [
    {
     "name": "stdout",
     "output_type": "stream",
     "text": [
      "Image load successfully\n"
     ]
    }
   ],
   "source": [
    "if image is None:\n",
    "    print(\"Image load not successfully\")\n",
    "else:\n",
    "    print(\"Image load successfully\")"
   ]
  },
  {
   "cell_type": "code",
   "execution_count": 4,
   "id": "ed9f7d5a",
   "metadata": {},
   "outputs": [
    {
     "data": {
      "text/plain": [
       "(2848, 4272)"
      ]
     },
     "execution_count": 4,
     "metadata": {},
     "output_type": "execute_result"
    }
   ],
   "source": [
    "image.shape[:2]"
   ]
  },
  {
   "cell_type": "code",
   "execution_count": 5,
   "id": "bf566679",
   "metadata": {},
   "outputs": [
    {
     "data": {
      "text/plain": [
       "(1281, 854)"
      ]
     },
     "execution_count": 5,
     "metadata": {},
     "output_type": "execute_result"
    }
   ],
   "source": [
    "# resize the image\n",
    "scale_percent = 30\n",
    "width = int(image.shape[1] * scale_percent / 100)\n",
    "height = int(image.shape[0] * scale_percent / 100)\n",
    "\n",
    "dim = (width, height)\n",
    "dim"
   ]
  },
  {
   "cell_type": "code",
   "execution_count": 6,
   "id": "40a756b3",
   "metadata": {},
   "outputs": [],
   "source": [
    "resized_image = cv.resize(image, dim, interpolation=cv.INTER_AREA)"
   ]
  },
  {
   "cell_type": "code",
   "execution_count": 7,
   "id": "bc4ab793",
   "metadata": {},
   "outputs": [],
   "source": [
    "# fixed size \n",
    "resized_image2 = cv.resize(image, (800, 500), interpolation=cv.INTER_AREA)"
   ]
  },
  {
   "cell_type": "code",
   "execution_count": 8,
   "id": "3bcbb7e9",
   "metadata": {},
   "outputs": [],
   "source": [
    "# load image\n",
    "cv.imshow(\"Global Image\", resized_image)\n",
    "cv.waitKey(0)\n",
    "cv.destroyAllWindows()"
   ]
  },
  {
   "cell_type": "code",
   "execution_count": 29,
   "id": "59d774c1",
   "metadata": {},
   "outputs": [],
   "source": [
    "cv.imshow(\"Global Image\", resized_image2)\n",
    "cv.waitKey(0)\n",
    "cv.destroyAllWindows()"
   ]
  },
  {
   "cell_type": "code",
   "execution_count": 32,
   "id": "45fa05f6",
   "metadata": {},
   "outputs": [
    {
     "data": {
      "text/plain": [
       "True"
      ]
     },
     "execution_count": 32,
     "metadata": {},
     "output_type": "execute_result"
    }
   ],
   "source": [
    "# save image\n",
    "new_image = image + 30\n",
    "cv.imwrite(\"./output.jpg\", new_image)"
   ]
  },
  {
   "cell_type": "code",
   "execution_count": null,
   "id": "28e04ed3",
   "metadata": {},
   "outputs": [],
   "source": []
  }
 ],
 "metadata": {
  "kernelspec": {
   "display_name": "Python 3",
   "language": "python",
   "name": "python3"
  },
  "language_info": {
   "codemirror_mode": {
    "name": "ipython",
    "version": 3
   },
   "file_extension": ".py",
   "mimetype": "text/x-python",
   "name": "python",
   "nbconvert_exporter": "python",
   "pygments_lexer": "ipython3",
   "version": "3.11.0"
  }
 },
 "nbformat": 4,
 "nbformat_minor": 5
}

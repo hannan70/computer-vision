{
 "cells": [
  {
   "cell_type": "code",
   "execution_count": 32,
   "id": "858b7047",
   "metadata": {},
   "outputs": [],
   "source": [
    "import cv2 as cv "
   ]
  },
  {
   "cell_type": "code",
   "execution_count": 43,
   "id": "5baeb4f2",
   "metadata": {},
   "outputs": [
    {
     "data": {
      "text/plain": [
       "< cv2.VideoCapture 000002635BA35830>"
      ]
     },
     "execution_count": 43,
     "metadata": {},
     "output_type": "execute_result"
    }
   ],
   "source": [
    "# load the video\n",
    "video_path = cv.VideoCapture('mountain.mp4')\n",
    "video_path"
   ]
  },
  {
   "cell_type": "code",
   "execution_count": 44,
   "id": "6da4943b",
   "metadata": {},
   "outputs": [
    {
     "name": "stdout",
     "output_type": "stream",
     "text": [
      "Video found and loaded successfully.\n"
     ]
    }
   ],
   "source": [
    "# Check if video was opened successfully\n",
    "if not video_path.isOpened():\n",
    "    print(f\"Cannot open video: {video_path}\")\n",
    "else:\n",
    "    print(\"Video found and loaded successfully.\")"
   ]
  },
  {
   "cell_type": "code",
   "execution_count": 45,
   "id": "092fcae3",
   "metadata": {},
   "outputs": [],
   "source": [
    "# load the video\n",
    "while True:\n",
    "    ret, frame = video_path.read()\n",
    "    # if there is no frame then break \n",
    "    if not ret:\n",
    "        break\n",
    "    \n",
    "    cv.imshow(\"Mountain Video Frame\", frame)\n",
    "    if cv.waitKey(1) & 0xFF == ord('q'):\n",
    "        break\n",
    "\n",
    "# close the video file\n",
    "video_path.release()\n",
    "# close the opencv window\n",
    "cv.destroyAllWindows()"
   ]
  },
  {
   "cell_type": "code",
   "execution_count": null,
   "id": "f4579371",
   "metadata": {},
   "outputs": [],
   "source": [
    "# write a video\n",
    "video = cv.VideoCapture('mountain.mp4')\n",
    "\n",
    "# for write mp4 video setup codec\n",
    "furcc = cv.VideoWriter_fourcc(*\"mp4v\")\n",
    "\n",
    "height = int(video.get(cv.CAP_PROP_FRAME_HEIGHT))\n",
    "width = int(video.get(cv.CAP_PROP_FRAME_WIDTH))\n",
    "\n",
    "# write 30 frames in every second\n",
    "output_video = cv.VideoWriter(\"./output.mp4\", furcc, 30, (width, height))\n",
    "\n",
    "while True:\n",
    "    ret, frame = video.read()\n",
    "    # if there is no frame then break\n",
    "    if not ret:\n",
    "        break\n",
    "    output_video.write(frame)\n",
    "\n",
    "output_video.release()\n",
    "video.release()\n",
    "cv.destroyAllWindows()\n"
   ]
  },
  {
   "cell_type": "code",
   "execution_count": 51,
   "id": "0a131f61",
   "metadata": {},
   "outputs": [],
   "source": [
    "# write a video\n",
    "video = cv.VideoCapture('mountain.mp4')\n",
    "\n",
    "furcc = cv.VideoWriter_fourcc(*\"mp4v\")\n",
    "\n",
    "height = int(video.get(cv.CAP_PROP_FRAME_HEIGHT))\n",
    "width = int(video.get(cv.CAP_PROP_FRAME_WIDTH))\n",
    "\n",
    "output_video = cv.VideoWriter(\"./output2.mp4\", furcc, 30, (width, height))\n",
    "\n",
    "while True:\n",
    "    ret, frame = video.read()\n",
    "    # if there is no frame then break\n",
    "    if not ret:\n",
    "        break\n",
    "    frame = frame + 20\n",
    "    output_video.write(frame)\n",
    "\n",
    "output_video.release()\n",
    "video.release()\n",
    "cv.destroyAllWindows()\n"
   ]
  },
  {
   "cell_type": "code",
   "execution_count": null,
   "id": "21d8fc33",
   "metadata": {},
   "outputs": [],
   "source": []
  }
 ],
 "metadata": {
  "kernelspec": {
   "display_name": "Python 3",
   "language": "python",
   "name": "python3"
  },
  "language_info": {
   "codemirror_mode": {
    "name": "ipython",
    "version": 3
   },
   "file_extension": ".py",
   "mimetype": "text/x-python",
   "name": "python",
   "nbconvert_exporter": "python",
   "pygments_lexer": "ipython3",
   "version": "3.11.0"
  }
 },
 "nbformat": 4,
 "nbformat_minor": 5
}
